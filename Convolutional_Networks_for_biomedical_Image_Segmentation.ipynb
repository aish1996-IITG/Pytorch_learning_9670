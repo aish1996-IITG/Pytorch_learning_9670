{
  "nbformat": 4,
  "nbformat_minor": 0,
  "metadata": {
    "colab": {
      "provenance": [],
      "toc_visible": true,
      "gpuType": "T4",
      "authorship_tag": "ABX9TyN0cS+cUYMTnA0xITI6RFJp",
      "include_colab_link": true
    },
    "kernelspec": {
      "name": "python3",
      "display_name": "Python 3"
    },
    "language_info": {
      "name": "python"
    },
    "accelerator": "GPU"
  },
  "cells": [
    {
      "cell_type": "markdown",
      "metadata": {
        "id": "view-in-github",
        "colab_type": "text"
      },
      "source": [
        "<a href=\"https://colab.research.google.com/github/aish1996-IITG/Pytorch_learning_9670/blob/main/Convolutional_Networks_for_biomedical_Image_Segmentation.ipynb\" target=\"_parent\"><img src=\"https://colab.research.google.com/assets/colab-badge.svg\" alt=\"Open In Colab\"/></a>"
      ]
    },
    {
      "cell_type": "code",
      "execution_count": 4,
      "metadata": {
        "id": "l2EH4P32_s87"
      },
      "outputs": [],
      "source": [
        "import torch\n",
        "import torch.nn as nn"
      ]
    },
    {
      "cell_type": "code",
      "source": [
        "\n",
        "def double_conv(in_c, out_c):\n",
        "    conv = nn.Sequential(\n",
        "        nn.Conv2d(in_c, out_c, kernel_size=3),\n",
        "        nn.ReLU(inplace=True),\n",
        "        nn.Conv2d(out_c, out_c, kernel_size=3),\n",
        "        nn.ReLU(inplace=True)\n",
        "    )\n",
        "    return conv\n",
        "\n",
        "def crop_img(tensor, target_tensor):\n",
        "    target_size = target_tensor.size()[2]\n",
        "    tensor_size = tensor.size()[2]\n",
        "    delta = tensor_size - target_size\n",
        "    delta = delta // 2\n",
        "    return tensor[:, :, delta:tensor_size-delta, delta:tensor_size-delta]\n",
        "\n",
        "\n",
        "class UNet(nn.Module):\n",
        "  def __init__(self):\n",
        "      super(UNet, self).__init__()\n",
        "      self.max_pool_2x2 = nn.MaxPool2d(kernel_size=2, stride=2)\n",
        "      self.down_conv_1 = double_conv(1, 64)\n",
        "      self.down_conv_2 = double_conv(64, 128)\n",
        "      self.down_conv_3 = double_conv(128, 256)\n",
        "      self.down_conv_4 = double_conv(256, 512)\n",
        "      self.down_conv_5 = double_conv(512, 1024)\n",
        "\n",
        "      self.up_trans_1 = nn.ConvTranspose2d(in_channels=1024, out_channels=512, kernel_size=2, stride=2)\n",
        "      self.up_conv_1 = double_conv(1024, 512)\n",
        "\n",
        "      self.up_trans_2 = nn.ConvTranspose2d(in_channels=512, out_channels=256, kernel_size=2, stride=2)\n",
        "      self.up_conv_2 = double_conv(512, 256)\n",
        "\n",
        "      self.up_trans_3 = nn.ConvTranspose2d(in_channels=256, out_channels=128, kernel_size=2, stride=2)\n",
        "      self.up_conv_3 = double_conv(256, 128)\n",
        "\n",
        "      self.up_trans_4 = nn.ConvTranspose2d(in_channels=128, out_channels=64, kernel_size=2, stride=2)\n",
        "      self.up_conv_4 = double_conv(128, 64)\n",
        "\n",
        "      self.out = nn.Conv2d(in_channels=64, out_channels=2, kernel_size=1)\n",
        "\n",
        "\n",
        "\n",
        "  def forward(self, image):\n",
        "      # batch_size(bs), channel(c), height(h), width(w)\n",
        "      # encoder\n",
        "      x1 = self.down_conv_1(image) #\n",
        "      print(x1.size())\n",
        "      x2 = self.max_pool_2x2(x1)\n",
        "      x3 = self.down_conv_2(x2) #\n",
        "      x4 = self.max_pool_2x2(x3)\n",
        "      x5 = self.down_conv_3(x4) #\n",
        "      x6 = self.max_pool_2x2(x5)\n",
        "      x7 = self.down_conv_4(x6) #\n",
        "      x8 = self.max_pool_2x2(x7)\n",
        "      x9 = self.down_conv_5(x8) #\n",
        "      print(x9.size())\n",
        "\n",
        "\n",
        "      # decoder\n",
        "      x = self.up_trans_1(x9)\n",
        "      # print(x.size())\n",
        "      y = crop_img(x7, x)\n",
        "      print(y.size())\n",
        "      # Now we have to concatnate x with x7\n",
        "      x = self.up_conv_1(torch.cat([x,y], 1))\n",
        "      print(x.size())\n",
        "      print(x7.size())  # we have to crop it to meet 64x64(x7) to 56x56(x)\n",
        "\n",
        "\n",
        "      x = self.up_trans_2(x)\n",
        "      y = crop_img(x5, x)\n",
        "      x = self.up_conv_2(torch.cat([x,y], 1))\n",
        "\n",
        "      x = self.up_trans_3(x)\n",
        "      y = crop_img(x3, x)\n",
        "      x = self.up_conv_3(torch.cat([x,y], 1))\n",
        "\n",
        "      x = self.up_trans_4(x)\n",
        "      y = crop_img(x1, x)\n",
        "      x = self.up_conv_4(torch.cat([x,y], 1))\n",
        "      print(x.size())\n",
        "\n",
        "\n",
        "\n",
        "\n",
        "\n",
        ""
      ],
      "metadata": {
        "id": "LDMbp1HrIU8P"
      },
      "execution_count": 5,
      "outputs": []
    },
    {
      "cell_type": "code",
      "source": [
        "if __name__ == \"__main__\":\n",
        "    image = torch.rand((1, 1, 572, 572))\n",
        "    model = UNet()\n",
        "    print(model(image))"
      ],
      "metadata": {
        "id": "tMF6C06pEh2j",
        "colab": {
          "base_uri": "https://localhost:8080/"
        },
        "outputId": "0aaabe67-0d37-4989-c95e-f5080b52bc8e"
      },
      "execution_count": 6,
      "outputs": [
        {
          "output_type": "stream",
          "name": "stdout",
          "text": [
            "torch.Size([1, 64, 568, 568])\n",
            "torch.Size([1, 1024, 28, 28])\n",
            "torch.Size([1, 512, 56, 56])\n",
            "torch.Size([1, 512, 52, 52])\n",
            "torch.Size([1, 512, 64, 64])\n",
            "torch.Size([1, 64, 388, 388])\n",
            "None\n"
          ]
        }
      ]
    },
    {
      "cell_type": "code",
      "source": [],
      "metadata": {
        "id": "_e_xY2isIXPg"
      },
      "execution_count": 22,
      "outputs": []
    },
    {
      "cell_type": "code",
      "source": [],
      "metadata": {
        "id": "g4oJiJ0sIXLs"
      },
      "execution_count": null,
      "outputs": []
    },
    {
      "cell_type": "code",
      "source": [],
      "metadata": {
        "id": "ibEeWvSVIXKB"
      },
      "execution_count": null,
      "outputs": []
    },
    {
      "cell_type": "code",
      "source": [],
      "metadata": {
        "id": "ZnFSD-4EIXAe"
      },
      "execution_count": null,
      "outputs": []
    },
    {
      "cell_type": "code",
      "source": [],
      "metadata": {
        "id": "seiHPkQfIWt3"
      },
      "execution_count": null,
      "outputs": []
    },
    {
      "cell_type": "code",
      "source": [],
      "metadata": {
        "id": "0haAD3_GF5bz"
      },
      "execution_count": null,
      "outputs": []
    }
  ]
}